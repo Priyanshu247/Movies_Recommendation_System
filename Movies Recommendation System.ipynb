{
 "cells": [
  {
   "cell_type": "code",
   "execution_count": 1,
   "id": "09955de4-a23f-4b50-a49b-78644fa4919e",
   "metadata": {},
   "outputs": [],
   "source": [
    "# The first step is to load the dataset and get an Idea of what it is about  "
   ]
  },
  {
   "cell_type": "code",
   "execution_count": 2,
   "id": "daeaa621-f620-469b-9f9e-2159c405d05d",
   "metadata": {},
   "outputs": [
    {
     "name": "stdout",
     "output_type": "stream",
     "text": [
      "   movieId                               title  \\\n",
      "0        1                    Toy Story (1995)   \n",
      "1        2                      Jumanji (1995)   \n",
      "2        3             Grumpier Old Men (1995)   \n",
      "3        4            Waiting to Exhale (1995)   \n",
      "4        5  Father of the Bride Part II (1995)   \n",
      "\n",
      "                                        genres  \n",
      "0  Adventure|Animation|Children|Comedy|Fantasy  \n",
      "1                   Adventure|Children|Fantasy  \n",
      "2                               Comedy|Romance  \n",
      "3                         Comedy|Drama|Romance  \n",
      "4                                       Comedy  \n",
      "   userId  movieId  rating  timestamp\n",
      "0       1        1     4.0  964982703\n",
      "1       1        3     4.0  964981247\n",
      "2       1        6     4.0  964982224\n",
      "3       1       47     5.0  964983815\n",
      "4       1       50     5.0  964982931\n"
     ]
    }
   ],
   "source": [
    "import pandas as pd\n",
    "\n",
    "# Loading movies and ratings data\n",
    "movies = pd.read_csv('movies.csv')  # Replace with the correct path\n",
    "ratings = pd.read_csv('ratings.csv')\n",
    "\n",
    "# Exploring the datasets\n",
    "print(movies.head())\n",
    "print(ratings.head())"
   ]
  },
  {
   "cell_type": "code",
   "execution_count": 3,
   "id": "df4d02dd-8836-408e-a26f-446fe9d58711",
   "metadata": {},
   "outputs": [],
   "source": [
    "# Now lets handle the missing values"
   ]
  },
  {
   "cell_type": "code",
   "execution_count": 4,
   "id": "77230585-43f0-4c56-a526-2c9224609e35",
   "metadata": {},
   "outputs": [
    {
     "name": "stdout",
     "output_type": "stream",
     "text": [
      "movieId    0\n",
      "title      0\n",
      "genres     0\n",
      "dtype: int64\n",
      "userId       0\n",
      "movieId      0\n",
      "rating       0\n",
      "timestamp    0\n",
      "dtype: int64\n"
     ]
    }
   ],
   "source": [
    "print(movies.isnull().sum())\n",
    "print(ratings.isnull().sum())"
   ]
  },
  {
   "cell_type": "code",
   "execution_count": 5,
   "id": "9f6f0142-ca7b-4ac3-8128-66ccca53a366",
   "metadata": {},
   "outputs": [],
   "source": [
    "# There are none"
   ]
  },
  {
   "cell_type": "code",
   "execution_count": 6,
   "id": "33f46b06-70a2-42f4-bfa2-d2d08d84a5e2",
   "metadata": {},
   "outputs": [],
   "source": [
    "# Splitting genres into lists\n",
    "movies['genres'] = movies['genres'].str.split('|')"
   ]
  },
  {
   "cell_type": "code",
   "execution_count": 7,
   "id": "479285fb-e5c8-4d9d-807a-e87c4ca8dd81",
   "metadata": {},
   "outputs": [
    {
     "name": "stdout",
     "output_type": "stream",
     "text": [
      "   userId  movieId  rating  timestamp                        title  \\\n",
      "0       1        1     4.0  964982703             Toy Story (1995)   \n",
      "1       1        3     4.0  964981247      Grumpier Old Men (1995)   \n",
      "2       1        6     4.0  964982224                  Heat (1995)   \n",
      "3       1       47     5.0  964983815  Seven (a.k.a. Se7en) (1995)   \n",
      "4       1       50     5.0  964982931   Usual Suspects, The (1995)   \n",
      "\n",
      "                                              genres  \n",
      "0  [Adventure, Animation, Children, Comedy, Fantasy]  \n",
      "1                                  [Comedy, Romance]  \n",
      "2                          [Action, Crime, Thriller]  \n",
      "3                                [Mystery, Thriller]  \n",
      "4                         [Crime, Mystery, Thriller]  \n"
     ]
    }
   ],
   "source": [
    "# Merging some data to reduce redundancy\n",
    "data = pd.merge(ratings, movies, on='movieId')\n",
    "print(data.head())\n"
   ]
  },
  {
   "cell_type": "code",
   "execution_count": 8,
   "id": "4e25c3b4-2ace-430c-9d00-959b862a04ab",
   "metadata": {},
   "outputs": [],
   "source": [
    "from sklearn.feature_extraction.text import TfidfVectorizer\n",
    "\n",
    "# Converting genres list back to strings for vectorization\n",
    "movies['genres_str'] = movies['genres'].apply(lambda x: ' '.join(x))\n",
    "\n",
    "# Vectorizing genres\n",
    "tfidf = TfidfVectorizer(stop_words='english')\n",
    "tfidf_matrix = tfidf.fit_transform(movies['genres_str'])"
   ]
  },
  {
   "cell_type": "code",
   "execution_count": 9,
   "id": "c056c0ca-9a90-4e52-8c33-957688e793cc",
   "metadata": {},
   "outputs": [],
   "source": [
    "# You might be wondering what I did there ,I am too let me wrap my head around it"
   ]
  },
  {
   "cell_type": "code",
   "execution_count": 10,
   "id": "f9ede057-11a6-49d0-9fc3-b2d73cfc25c9",
   "metadata": {},
   "outputs": [],
   "source": [
    "# This part will calculate similarity\n",
    "from sklearn.metrics.pairwise import linear_kernel\n",
    "\n",
    "# Computing cosine similarity\n",
    "cosine_sim = linear_kernel(tfidf_matrix, tfidf_matrix)\n"
   ]
  },
  {
   "cell_type": "code",
   "execution_count": 11,
   "id": "1885977c-710c-4d15-9f98-420e6a64895d",
   "metadata": {},
   "outputs": [
    {
     "name": "stdout",
     "output_type": "stream",
     "text": [
      "1706                                          Antz (1998)\n",
      "2355                                   Toy Story 2 (1999)\n",
      "2809       Adventures of Rocky and Bullwinkle, The (2000)\n",
      "3000                     Emperor's New Groove, The (2000)\n",
      "3568                                Monsters, Inc. (2001)\n",
      "6194                                     Wild, The (2006)\n",
      "6486                               Shrek the Third (2007)\n",
      "6948                       Tale of Despereaux, The (2008)\n",
      "7760    Asterix and the Vikings (Astérix et les Viking...\n",
      "8219                                         Turbo (2013)\n",
      "Name: title, dtype: object\n"
     ]
    }
   ],
   "source": [
    "# This is the actual recommendation system\n",
    "\n",
    "# Creating a movie-title to index mapping\n",
    "movie_indices = pd.Series(movies.index, index=movies['title']).drop_duplicates()\n",
    "\n",
    "def recommend_content_based(title, cosine_sim=cosine_sim):\n",
    "    idx = movie_indices[title]\n",
    "    sim_scores = list(enumerate(cosine_sim[idx]))\n",
    "    sim_scores = sorted(sim_scores, key=lambda x: x[1], reverse=True)\n",
    "    sim_scores = sim_scores[1:11]  # Top 10 recommendations\n",
    "    movie_indices_rec = [i[0] for i in sim_scores]\n",
    "    return movies['title'].iloc[movie_indices_rec]\n",
    "\n",
    "# Example: Recommend similar movies\n",
    "print(recommend_content_based(\"Toy Story (1995)\"))\n"
   ]
  },
  {
   "cell_type": "code",
   "execution_count": 12,
   "id": "ded4d64e-5eb9-4544-bfd1-2f0879e9775a",
   "metadata": {},
   "outputs": [],
   "source": [
    "# That was cool ,let's do that again"
   ]
  },
  {
   "cell_type": "code",
   "execution_count": 13,
   "id": "8be36ebc-2910-4f37-9df6-e319a7e531be",
   "metadata": {},
   "outputs": [
    {
     "name": "stdout",
     "output_type": "stream",
     "text": [
      "24                            Leaving Las Vegas (1995)\n",
      "27                                   Persuasion (1995)\n",
      "42                How to Make an American Quilt (1995)\n",
      "45                        When Night Is Falling (1995)\n",
      "66                                 Bed of Roses (1996)\n",
      "75     Once Upon a Time... When We Were Colored (1995)\n",
      "76                           Angels and Insects (1995)\n",
      "93               Bridges of Madison County, The (1995)\n",
      "115                       Up Close and Personal (1996)\n",
      "151                                    Mad Love (1995)\n",
      "Name: title, dtype: object\n"
     ]
    }
   ],
   "source": [
    "# Blue Sky (1994)\n",
    "print(recommend_content_based(\"Blue Sky (1994)\"))"
   ]
  },
  {
   "cell_type": "code",
   "execution_count": 14,
   "id": "f9d60096-5b41-440a-bdc5-84a62a580dd3",
   "metadata": {},
   "outputs": [
    {
     "name": "stdout",
     "output_type": "stream",
     "text": [
      "53                     Indian in the Cupboard, The (1995)\n",
      "109                     NeverEnding Story III, The (1994)\n",
      "767                       Escape to Witch Mountain (1975)\n",
      "1514            Darby O'Gill and the Little People (1959)\n",
      "1556                                  Return to Oz (1985)\n",
      "1617                        NeverEnding Story, The (1984)\n",
      "1618    NeverEnding Story II: The Next Chapter, The (1...\n",
      "1799                        Santa Claus: The Movie (1985)\n",
      "3574    Harry Potter and the Sorcerer's Stone (a.k.a. ...\n",
      "6075    Chronicles of Narnia: The Lion, the Witch and ...\n",
      "Name: title, dtype: object\n"
     ]
    }
   ],
   "source": [
    "# Harry Potter and the Sorcerer's Stone (a.k.a. Harry Potter and the Philosopher's Stone) (2001)\n",
    "print(recommend_content_based(\"Harry Potter and the Sorcerer's Stone (a.k.a. Harry Potter and the Philosopher's Stone) (2001)\"))"
   ]
  },
  {
   "cell_type": "code",
   "execution_count": 15,
   "id": "6c5185fa-5c7a-4f3f-9274-66f5c408a4d2",
   "metadata": {},
   "outputs": [],
   "source": [
    "# This creates a user matrix\n",
    "user_movie_matrix = data.pivot(index='userId', columns='movieId', values='rating')"
   ]
  },
  {
   "cell_type": "code",
   "execution_count": 16,
   "id": "30bf7558-c575-4e39-a6d7-a692e7ba0678",
   "metadata": {},
   "outputs": [],
   "source": [
    "# Filling NaN with 0;albeit there probably isn't one\n",
    "user_movie_matrix = user_movie_matrix.fillna(0)"
   ]
  },
  {
   "cell_type": "code",
   "execution_count": 17,
   "id": "c2e806e1-eefb-4735-bcad-bea48e5ae51a",
   "metadata": {},
   "outputs": [
    {
     "ename": "TypeError",
     "evalue": "type not understood",
     "output_type": "error",
     "traceback": [
      "\u001b[1;31m---------------------------------------------------------------------------\u001b[0m",
      "\u001b[1;31mTypeError\u001b[0m                                 Traceback (most recent call last)",
      "Cell \u001b[1;32mIn[17], line 5\u001b[0m\n\u001b[0;32m      2\u001b[0m \u001b[38;5;28;01mfrom\u001b[39;00m \u001b[38;5;21;01mscipy\u001b[39;00m\u001b[38;5;21;01m.\u001b[39;00m\u001b[38;5;21;01msparse\u001b[39;00m\u001b[38;5;21;01m.\u001b[39;00m\u001b[38;5;21;01mlinalg\u001b[39;00m \u001b[38;5;28;01mimport\u001b[39;00m svds\n\u001b[0;32m      4\u001b[0m \u001b[38;5;66;03m# Performing SVD\u001b[39;00m\n\u001b[1;32m----> 5\u001b[0m U, sigma, Vt \u001b[38;5;241m=\u001b[39m \u001b[43msvds\u001b[49m\u001b[43m(\u001b[49m\u001b[43muser_movie_matrix\u001b[49m\u001b[43m,\u001b[49m\u001b[43m \u001b[49m\u001b[43mk\u001b[49m\u001b[38;5;241;43m=\u001b[39;49m\u001b[38;5;241;43m50\u001b[39;49m\u001b[43m)\u001b[49m\n\u001b[0;32m      7\u001b[0m \u001b[38;5;66;03m# Converting sigma to diagonal matrix\u001b[39;00m\n\u001b[0;32m      8\u001b[0m sigma \u001b[38;5;241m=\u001b[39m np\u001b[38;5;241m.\u001b[39mdiag(sigma)\n",
      "File \u001b[1;32m~\\AppData\\Local\\Programs\\Python\\Python312\\Lib\\site-packages\\scipy\\sparse\\linalg\\_eigen\\_svds.py:443\u001b[0m, in \u001b[0;36msvds\u001b[1;34m(A, k, ncv, tol, which, v0, maxiter, return_singular_vectors, solver, random_state, options)\u001b[0m\n\u001b[0;32m    104\u001b[0m \u001b[38;5;28;01mdef\u001b[39;00m \u001b[38;5;21msvds\u001b[39m(A, k\u001b[38;5;241m=\u001b[39m\u001b[38;5;241m6\u001b[39m, ncv\u001b[38;5;241m=\u001b[39m\u001b[38;5;28;01mNone\u001b[39;00m, tol\u001b[38;5;241m=\u001b[39m\u001b[38;5;241m0\u001b[39m, which\u001b[38;5;241m=\u001b[39m\u001b[38;5;124m'\u001b[39m\u001b[38;5;124mLM\u001b[39m\u001b[38;5;124m'\u001b[39m, v0\u001b[38;5;241m=\u001b[39m\u001b[38;5;28;01mNone\u001b[39;00m,\n\u001b[0;32m    105\u001b[0m          maxiter\u001b[38;5;241m=\u001b[39m\u001b[38;5;28;01mNone\u001b[39;00m, return_singular_vectors\u001b[38;5;241m=\u001b[39m\u001b[38;5;28;01mTrue\u001b[39;00m,\n\u001b[0;32m    106\u001b[0m          solver\u001b[38;5;241m=\u001b[39m\u001b[38;5;124m'\u001b[39m\u001b[38;5;124marpack\u001b[39m\u001b[38;5;124m'\u001b[39m, random_state\u001b[38;5;241m=\u001b[39m\u001b[38;5;28;01mNone\u001b[39;00m, options\u001b[38;5;241m=\u001b[39m\u001b[38;5;28;01mNone\u001b[39;00m):\n\u001b[0;32m    107\u001b[0m \u001b[38;5;250m    \u001b[39m\u001b[38;5;124;03m\"\"\"\u001b[39;00m\n\u001b[0;32m    108\u001b[0m \u001b[38;5;124;03m    Partial singular value decomposition of a sparse matrix.\u001b[39;00m\n\u001b[0;32m    109\u001b[0m \n\u001b[1;32m   (...)\u001b[0m\n\u001b[0;32m    441\u001b[0m \n\u001b[0;32m    442\u001b[0m \u001b[38;5;124;03m    \"\"\"\u001b[39;00m\n\u001b[1;32m--> 443\u001b[0m     args \u001b[38;5;241m=\u001b[39m \u001b[43m_iv\u001b[49m\u001b[43m(\u001b[49m\u001b[43mA\u001b[49m\u001b[43m,\u001b[49m\u001b[43m \u001b[49m\u001b[43mk\u001b[49m\u001b[43m,\u001b[49m\u001b[43m \u001b[49m\u001b[43mncv\u001b[49m\u001b[43m,\u001b[49m\u001b[43m \u001b[49m\u001b[43mtol\u001b[49m\u001b[43m,\u001b[49m\u001b[43m \u001b[49m\u001b[43mwhich\u001b[49m\u001b[43m,\u001b[49m\u001b[43m \u001b[49m\u001b[43mv0\u001b[49m\u001b[43m,\u001b[49m\u001b[43m \u001b[49m\u001b[43mmaxiter\u001b[49m\u001b[43m,\u001b[49m\u001b[43m \u001b[49m\u001b[43mreturn_singular_vectors\u001b[49m\u001b[43m,\u001b[49m\n\u001b[0;32m    444\u001b[0m \u001b[43m               \u001b[49m\u001b[43msolver\u001b[49m\u001b[43m,\u001b[49m\u001b[43m \u001b[49m\u001b[43mrandom_state\u001b[49m\u001b[43m)\u001b[49m\n\u001b[0;32m    445\u001b[0m     (A, k, ncv, tol, which, v0, maxiter,\n\u001b[0;32m    446\u001b[0m      return_singular_vectors, solver, random_state) \u001b[38;5;241m=\u001b[39m args\n\u001b[0;32m    448\u001b[0m     largest \u001b[38;5;241m=\u001b[39m (which \u001b[38;5;241m==\u001b[39m \u001b[38;5;124m'\u001b[39m\u001b[38;5;124mLM\u001b[39m\u001b[38;5;124m'\u001b[39m)\n",
      "File \u001b[1;32m~\\AppData\\Local\\Programs\\Python\\Python312\\Lib\\site-packages\\scipy\\sparse\\linalg\\_eigen\\_svds.py:36\u001b[0m, in \u001b[0;36m_iv\u001b[1;34m(A, k, ncv, tol, which, v0, maxiter, return_singular, solver, random_state)\u001b[0m\n\u001b[0;32m     33\u001b[0m     \u001b[38;5;28;01mraise\u001b[39;00m \u001b[38;5;167;01mValueError\u001b[39;00m(\u001b[38;5;124mf\u001b[39m\u001b[38;5;124m\"\u001b[39m\u001b[38;5;124msolver must be one of \u001b[39m\u001b[38;5;132;01m{\u001b[39;00msolvers\u001b[38;5;132;01m}\u001b[39;00m\u001b[38;5;124m.\u001b[39m\u001b[38;5;124m\"\u001b[39m)\n\u001b[0;32m     35\u001b[0m \u001b[38;5;66;03m# input validation/standardization for `A`\u001b[39;00m\n\u001b[1;32m---> 36\u001b[0m A \u001b[38;5;241m=\u001b[39m \u001b[43maslinearoperator\u001b[49m\u001b[43m(\u001b[49m\u001b[43mA\u001b[49m\u001b[43m)\u001b[49m  \u001b[38;5;66;03m# this takes care of some input validation\u001b[39;00m\n\u001b[0;32m     37\u001b[0m \u001b[38;5;28;01mif\u001b[39;00m \u001b[38;5;129;01mnot\u001b[39;00m (np\u001b[38;5;241m.\u001b[39missubdtype(A\u001b[38;5;241m.\u001b[39mdtype, np\u001b[38;5;241m.\u001b[39mcomplexfloating)\n\u001b[0;32m     38\u001b[0m         \u001b[38;5;129;01mor\u001b[39;00m np\u001b[38;5;241m.\u001b[39missubdtype(A\u001b[38;5;241m.\u001b[39mdtype, np\u001b[38;5;241m.\u001b[39mfloating)):\n\u001b[0;32m     39\u001b[0m     message \u001b[38;5;241m=\u001b[39m \u001b[38;5;124m\"\u001b[39m\u001b[38;5;124m`A` must be of floating or complex floating data type.\u001b[39m\u001b[38;5;124m\"\u001b[39m\n",
      "File \u001b[1;32m~\\AppData\\Local\\Programs\\Python\\Python312\\Lib\\site-packages\\scipy\\sparse\\linalg\\_interface.py:896\u001b[0m, in \u001b[0;36maslinearoperator\u001b[1;34m(A)\u001b[0m\n\u001b[0;32m    892\u001b[0m     \u001b[38;5;28;01mreturn\u001b[39;00m LinearOperator(A\u001b[38;5;241m.\u001b[39mshape, A\u001b[38;5;241m.\u001b[39mmatvec, rmatvec\u001b[38;5;241m=\u001b[39mrmatvec,\n\u001b[0;32m    893\u001b[0m                           rmatmat\u001b[38;5;241m=\u001b[39mrmatmat, dtype\u001b[38;5;241m=\u001b[39mdtype)\n\u001b[0;32m    895\u001b[0m \u001b[38;5;28;01melse\u001b[39;00m:\n\u001b[1;32m--> 896\u001b[0m     \u001b[38;5;28;01mraise\u001b[39;00m \u001b[38;5;167;01mTypeError\u001b[39;00m(\u001b[38;5;124m'\u001b[39m\u001b[38;5;124mtype not understood\u001b[39m\u001b[38;5;124m'\u001b[39m)\n",
      "\u001b[1;31mTypeError\u001b[0m: type not understood"
     ]
    }
   ],
   "source": [
    "# This performes singular value decomposition\n",
    "from scipy.sparse.linalg import svds\n",
    "\n",
    "# Performing SVD\n",
    "U, sigma, Vt = svds(user_movie_matrix, k=50)\n",
    "\n",
    "# Converting sigma to diagonal matrix\n",
    "sigma = np.diag(sigma)\n"
   ]
  },
  {
   "cell_type": "code",
   "execution_count": 18,
   "id": "c84dcefb-01a1-4bd8-b1a9-ae2bd0eda0d0",
   "metadata": {},
   "outputs": [],
   "source": [
    "from scipy.sparse import csr_matrix\n",
    "from scipy.sparse.linalg import svds\n",
    "import numpy as np\n",
    "\n",
    "# Converting the user-item matrix to a sparse matrix\n",
    "sparse_matrix = csr_matrix(user_movie_matrix)\n",
    "\n",
    "# Performing SVD\n",
    "U, sigma, Vt = svds(sparse_matrix, k=50)\n",
    "\n",
    "# Converting sigma to a diagonal matrix\n",
    "sigma = np.diag(sigma)\n"
   ]
  },
  {
   "cell_type": "code",
   "execution_count": 19,
   "id": "4089e81b-14e3-41fc-a2a3-3f191c65130e",
   "metadata": {},
   "outputs": [],
   "source": [
    "# Making Predictions\n",
    "\n",
    "# Reconstructing the matrix\n",
    "predicted_ratings = np.dot(np.dot(U, sigma), Vt)\n",
    "\n",
    "# Converting to a DataFrame\n",
    "predicted_df = pd.DataFrame(predicted_ratings, index=user_movie_matrix.index, columns=user_movie_matrix.columns)\n"
   ]
  },
  {
   "cell_type": "code",
   "execution_count": 20,
   "id": "71d4991e-bdb1-45d0-b76d-75f823258d9c",
   "metadata": {},
   "outputs": [],
   "source": [
    "# Recommendation system based on ratings\n",
    "\n",
    "def recommend_collaborative(user_id, num_recommendations=10):\n",
    "    # Getting the predicted ratings for the user\n",
    "    user_predictions = predicted_df.loc[user_id]\n",
    "\n",
    "    # Getting movies already rated by the user\n",
    "    already_rated = user_movie_matrix.loc[user_id][user_movie_matrix.loc[user_id] > 0].index\n",
    "\n",
    "    # Excluding already rated movies and sorting by predicted rating\n",
    "    recommendations = user_predictions.drop(already_rated).sort_values(ascending=False).head(num_recommendations)\n",
    "\n",
    "    # Getting movie titles for the recommended movies\n",
    "    recommended_movies = movies[movies['movieId'].isin(recommendations.index)]['title']\n",
    "    return recommended_movies"
   ]
  },
  {
   "cell_type": "code",
   "execution_count": 21,
   "id": "37d29eba-557b-4356-a2b1-767e3074fb69",
   "metadata": {},
   "outputs": [
    {
     "name": "stdout",
     "output_type": "stream",
     "text": [
      "Recommended movies for User ID 234:\n",
      "325                           Mask, The (1994)\n",
      "483     Nightmare Before Christmas, The (1993)\n",
      "512                Beauty and the Beast (1991)\n",
      "513                           Pinocchio (1940)\n",
      "592                           Rock, The (1996)\n",
      "615       Independence Day (a.k.a. ID4) (1996)\n",
      "981                            Fantasia (1940)\n",
      "1543                   Jungle Book, The (1967)\n",
      "1628                        Beetlejuice (1988)\n",
      "2078                   Sixth Sense, The (1999)\n",
      "Name: title, dtype: object\n"
     ]
    }
   ],
   "source": [
    "# Example: Recommend movies for user ID 234\n",
    "user_id = 234\n",
    "recommended_movies = recommend_collaborative(user_id=user_id)\n",
    "print(f\"Recommended movies for User ID {user_id}:\")\n",
    "print(recommended_movies)\n"
   ]
  },
  {
   "cell_type": "code",
   "execution_count": 22,
   "id": "64d50dfd-dd66-47a9-9d56-c2ee298380fd",
   "metadata": {},
   "outputs": [
    {
     "name": "stdout",
     "output_type": "stream",
     "text": [
      "RMSE: 0.30609639616977785\n"
     ]
    },
    {
     "name": "stderr",
     "output_type": "stream",
     "text": [
      "C:\\Users\\priya\\AppData\\Local\\Programs\\Python\\Python312\\Lib\\site-packages\\sklearn\\metrics\\_regression.py:483: FutureWarning: 'squared' is deprecated in version 1.4 and will be removed in 1.6. To calculate the root mean squared error, use the function'root_mean_squared_error'.\n",
      "  warnings.warn(\n"
     ]
    }
   ],
   "source": [
    "# Model Evaluation\n",
    "\n",
    "from sklearn.metrics import mean_squared_error\n",
    "\n",
    "# Flatten actual and predicted matrices for comparison\n",
    "actual = user_movie_matrix.values.flatten()\n",
    "predicted = predicted_df.values.flatten()\n",
    "\n",
    "# Calculate RMSE\n",
    "rmse = mean_squared_error(actual, predicted, squared=False)\n",
    "print(f\"RMSE: {rmse}\")"
   ]
  },
  {
   "cell_type": "code",
   "execution_count": 23,
   "id": "fa9e8291-c705-4955-94ee-e37377a5376e",
   "metadata": {},
   "outputs": [],
   "source": [
    "import warnings\n",
    "\n",
    "# Suppress all FutureWarnings\n",
    "warnings.simplefilter(action='ignore', category=FutureWarning)\n"
   ]
  },
  {
   "cell_type": "code",
   "execution_count": 24,
   "id": "16285f63-49cc-4245-81fa-80559ad0cb26",
   "metadata": {},
   "outputs": [
    {
     "name": "stdout",
     "output_type": "stream",
     "text": [
      "RMSE: 0.30609639616977785\n"
     ]
    }
   ],
   "source": [
    "from sklearn.metrics import mean_squared_error\n",
    "import numpy as np\n",
    "\n",
    "# Replace NaN values in the original matrix with zeros\n",
    "actual = user_movie_matrix.fillna(0).values.flatten()\n",
    "predicted = np.nan_to_num(predicted_df.values.flatten())  # Replace NaNs in predictions with zeros\n",
    "\n",
    "# Calculate RMSE\n",
    "rmse = mean_squared_error(actual, predicted, squared=False)\n",
    "print(f\"RMSE: {rmse}\")\n"
   ]
  },
  {
   "cell_type": "code",
   "execution_count": 25,
   "id": "a7c4e829-83db-4069-8607-3b8ed7e1ee66",
   "metadata": {},
   "outputs": [
    {
     "name": "stdout",
     "output_type": "stream",
     "text": [
      "Actual shape: (5931640,)\n",
      "Predicted shape: (5931640,)\n",
      "Any NaN in actual? False\n",
      "Any NaN in predicted? False\n"
     ]
    }
   ],
   "source": [
    "print(\"Actual shape:\", actual.shape)\n",
    "print(\"Predicted shape:\", predicted.shape)\n",
    "print(\"Any NaN in actual?\", np.isnan(actual).any())\n",
    "print(\"Any NaN in predicted?\", np.isnan(predicted).any())"
   ]
  },
  {
   "cell_type": "code",
   "execution_count": null,
   "id": "8c62e121-414c-45ed-816e-aa5fec35bf3e",
   "metadata": {},
   "outputs": [],
   "source": []
  }
 ],
 "metadata": {
  "kernelspec": {
   "display_name": "Python 3 (ipykernel)",
   "language": "python",
   "name": "python3"
  },
  "language_info": {
   "codemirror_mode": {
    "name": "ipython",
    "version": 3
   },
   "file_extension": ".py",
   "mimetype": "text/x-python",
   "name": "python",
   "nbconvert_exporter": "python",
   "pygments_lexer": "ipython3",
   "version": "3.12.1"
  }
 },
 "nbformat": 4,
 "nbformat_minor": 5
}
